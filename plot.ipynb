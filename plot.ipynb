{
 "cells": [
  {
   "cell_type": "code",
   "execution_count": 7,
   "metadata": {},
   "outputs": [],
   "source": [
    "import pandas as pd\n",
    "import seaborn as sns\n",
    "import matplotlib.pyplot as plt\n",
    "import re\n",
    "import numpy as np"
   ]
  },
  {
   "cell_type": "code",
   "execution_count": 8,
   "metadata": {},
   "outputs": [
    {
     "data": {
      "text/html": [
       "<div>\n",
       "<style scoped>\n",
       "    .dataframe tbody tr th:only-of-type {\n",
       "        vertical-align: middle;\n",
       "    }\n",
       "\n",
       "    .dataframe tbody tr th {\n",
       "        vertical-align: top;\n",
       "    }\n",
       "\n",
       "    .dataframe thead th {\n",
       "        text-align: right;\n",
       "    }\n",
       "</style>\n",
       "<table border=\"1\" class=\"dataframe\">\n",
       "  <thead>\n",
       "    <tr style=\"text-align: right;\">\n",
       "      <th></th>\n",
       "      <th>video_channelId</th>\n",
       "      <th>video_channelTitle</th>\n",
       "      <th>video_channelSubscriber</th>\n",
       "      <th>video_id</th>\n",
       "      <th>video_title</th>\n",
       "      <th>video_publishedAt</th>\n",
       "      <th>video_description</th>\n",
       "      <th>video_thumbnails</th>\n",
       "      <th>video_tags</th>\n",
       "      <th>video_categoryId</th>\n",
       "      <th>video_viewCount</th>\n",
       "      <th>video_likeCount</th>\n",
       "      <th>video_commentCount</th>\n",
       "      <th>video_duration_teaser</th>\n",
       "      <th>video_id_mv_official</th>\n",
       "      <th>video_title_mv_official</th>\n",
       "      <th>video_publishedAt_mv_official</th>\n",
       "      <th>video_duration_mv_official</th>\n",
       "      <th>video_viewCount_mv_official</th>\n",
       "    </tr>\n",
       "  </thead>\n",
       "  <tbody>\n",
       "    <tr>\n",
       "      <th>0</th>\n",
       "      <td>UC3IZKseVpdzPSBaWxBxundA</td>\n",
       "      <td>HYBE LABELS</td>\n",
       "      <td>68700000</td>\n",
       "      <td>8skl6AxMyec</td>\n",
       "      <td>LE SSERAFIM (르세라핌) 'ANTIFRAGILE' M/V TEASER 2</td>\n",
       "      <td>2022-10-15 15:00:00+00:00</td>\n",
       "      <td>Creative Director : NU KIM\\n\\nVisual Creative ...</td>\n",
       "      <td>https://i.ytimg.com/vi/8skl6AxMyec/default.jpg</td>\n",
       "      <td>['HYBE', 'HYBE LABELS', '하이브', '하이브레이블즈']</td>\n",
       "      <td>10</td>\n",
       "      <td>3137281.0</td>\n",
       "      <td>253153.0</td>\n",
       "      <td>5410.0</td>\n",
       "      <td>PT20S</td>\n",
       "      <td>pyf8cbqyfPs</td>\n",
       "      <td>LE SSERAFIM (르세라핌) 'ANTIFRAGILE' OFFICIAL M/V</td>\n",
       "      <td>2022-10-16 14:58:08+00:00</td>\n",
       "      <td>PT3M52S</td>\n",
       "      <td>49994575.0</td>\n",
       "    </tr>\n",
       "    <tr>\n",
       "      <th>1</th>\n",
       "      <td>UC3IZKseVpdzPSBaWxBxundA</td>\n",
       "      <td>HYBE LABELS</td>\n",
       "      <td>68700000</td>\n",
       "      <td>gKwXG4Cpgw0</td>\n",
       "      <td>LE SSERAFIM (르세라핌) 'ANTIFRAGILE' M/V TEASER 1</td>\n",
       "      <td>2022-10-13 15:00:00+00:00</td>\n",
       "      <td>Creative Director : NU KIM\\n\\nVisual Creative ...</td>\n",
       "      <td>https://i.ytimg.com/vi/gKwXG4Cpgw0/default.jpg</td>\n",
       "      <td>['HYBE', 'HYBE LABELS', '하이브', '하이브레이블즈']</td>\n",
       "      <td>10</td>\n",
       "      <td>2108775.0</td>\n",
       "      <td>180257.0</td>\n",
       "      <td>4188.0</td>\n",
       "      <td>PT30S</td>\n",
       "      <td>pyf8cbqyfPs</td>\n",
       "      <td>LE SSERAFIM (르세라핌) 'ANTIFRAGILE' OFFICIAL M/V</td>\n",
       "      <td>2022-10-16 14:58:08+00:00</td>\n",
       "      <td>PT3M52S</td>\n",
       "      <td>49994575.0</td>\n",
       "    </tr>\n",
       "    <tr>\n",
       "      <th>2</th>\n",
       "      <td>UC3IZKseVpdzPSBaWxBxundA</td>\n",
       "      <td>HYBE LABELS</td>\n",
       "      <td>68700000</td>\n",
       "      <td>3KZ8sj8b-X0</td>\n",
       "      <td>ZICO (지코) '괴짜 (Freak)' MV Teaser</td>\n",
       "      <td>2022-07-25 09:00:17+00:00</td>\n",
       "      <td>ZICO (지코) '괴짜 (Freak)' MV Teaser\\n\\n[Grown Ass...</td>\n",
       "      <td>https://i.ytimg.com/vi/3KZ8sj8b-X0/default.jpg</td>\n",
       "      <td>['HYBE', 'HYBE LABELS', '하이브', '하이브레이블즈']</td>\n",
       "      <td>10</td>\n",
       "      <td>247959.0</td>\n",
       "      <td>28902.0</td>\n",
       "      <td>237.0</td>\n",
       "      <td>PT16S</td>\n",
       "      <td>dfYS9QBU-sc</td>\n",
       "      <td>ZICO (지코) '괴짜 (Freak)' Official MV</td>\n",
       "      <td>2022-07-27 09:54:22+00:00</td>\n",
       "      <td>PT16S</td>\n",
       "      <td>301411.0</td>\n",
       "    </tr>\n",
       "  </tbody>\n",
       "</table>\n",
       "</div>"
      ],
      "text/plain": [
       "            video_channelId video_channelTitle  video_channelSubscriber  \\\n",
       "0  UC3IZKseVpdzPSBaWxBxundA        HYBE LABELS                 68700000   \n",
       "1  UC3IZKseVpdzPSBaWxBxundA        HYBE LABELS                 68700000   \n",
       "2  UC3IZKseVpdzPSBaWxBxundA        HYBE LABELS                 68700000   \n",
       "\n",
       "      video_id                                    video_title  \\\n",
       "0  8skl6AxMyec  LE SSERAFIM (르세라핌) 'ANTIFRAGILE' M/V TEASER 2   \n",
       "1  gKwXG4Cpgw0  LE SSERAFIM (르세라핌) 'ANTIFRAGILE' M/V TEASER 1   \n",
       "2  3KZ8sj8b-X0               ZICO (지코) '괴짜 (Freak)' MV Teaser   \n",
       "\n",
       "           video_publishedAt  \\\n",
       "0  2022-10-15 15:00:00+00:00   \n",
       "1  2022-10-13 15:00:00+00:00   \n",
       "2  2022-07-25 09:00:17+00:00   \n",
       "\n",
       "                                   video_description  \\\n",
       "0  Creative Director : NU KIM\\n\\nVisual Creative ...   \n",
       "1  Creative Director : NU KIM\\n\\nVisual Creative ...   \n",
       "2  ZICO (지코) '괴짜 (Freak)' MV Teaser\\n\\n[Grown Ass...   \n",
       "\n",
       "                                 video_thumbnails  \\\n",
       "0  https://i.ytimg.com/vi/8skl6AxMyec/default.jpg   \n",
       "1  https://i.ytimg.com/vi/gKwXG4Cpgw0/default.jpg   \n",
       "2  https://i.ytimg.com/vi/3KZ8sj8b-X0/default.jpg   \n",
       "\n",
       "                                  video_tags  video_categoryId  \\\n",
       "0  ['HYBE', 'HYBE LABELS', '하이브', '하이브레이블즈']                10   \n",
       "1  ['HYBE', 'HYBE LABELS', '하이브', '하이브레이블즈']                10   \n",
       "2  ['HYBE', 'HYBE LABELS', '하이브', '하이브레이블즈']                10   \n",
       "\n",
       "   video_viewCount  video_likeCount  video_commentCount video_duration_teaser  \\\n",
       "0        3137281.0         253153.0              5410.0                 PT20S   \n",
       "1        2108775.0         180257.0              4188.0                 PT30S   \n",
       "2         247959.0          28902.0               237.0                 PT16S   \n",
       "\n",
       "  video_id_mv_official                        video_title_mv_official  \\\n",
       "0          pyf8cbqyfPs  LE SSERAFIM (르세라핌) 'ANTIFRAGILE' OFFICIAL M/V   \n",
       "1          pyf8cbqyfPs  LE SSERAFIM (르세라핌) 'ANTIFRAGILE' OFFICIAL M/V   \n",
       "2          dfYS9QBU-sc             ZICO (지코) '괴짜 (Freak)' Official MV   \n",
       "\n",
       "  video_publishedAt_mv_official video_duration_mv_official  \\\n",
       "0     2022-10-16 14:58:08+00:00                    PT3M52S   \n",
       "1     2022-10-16 14:58:08+00:00                    PT3M52S   \n",
       "2     2022-07-27 09:54:22+00:00                      PT16S   \n",
       "\n",
       "   video_viewCount_mv_official  \n",
       "0                   49994575.0  \n",
       "1                   49994575.0  \n",
       "2                     301411.0  "
      ]
     },
     "execution_count": 8,
     "metadata": {},
     "output_type": "execute_result"
    }
   ],
   "source": [
    "df = pd.read_csv('data_youtube.csv', header = 0)\n",
    "df.head(3)"
   ]
  },
  {
   "cell_type": "markdown",
   "metadata": {},
   "source": [
    "#### Subcriber of each channel"
   ]
  },
  {
   "cell_type": "code",
   "execution_count": 9,
   "metadata": {},
   "outputs": [
    {
     "data": {
      "text/html": [
       "<div>\n",
       "<style scoped>\n",
       "    .dataframe tbody tr th:only-of-type {\n",
       "        vertical-align: middle;\n",
       "    }\n",
       "\n",
       "    .dataframe tbody tr th {\n",
       "        vertical-align: top;\n",
       "    }\n",
       "\n",
       "    .dataframe thead th {\n",
       "        text-align: right;\n",
       "    }\n",
       "</style>\n",
       "<table border=\"1\" class=\"dataframe\">\n",
       "  <thead>\n",
       "    <tr style=\"text-align: right;\">\n",
       "      <th></th>\n",
       "      <th>channel</th>\n",
       "      <th>subcribers</th>\n",
       "    </tr>\n",
       "  </thead>\n",
       "  <tbody>\n",
       "    <tr>\n",
       "      <th>0</th>\n",
       "      <td>HYBE LABELS</td>\n",
       "      <td>68700000</td>\n",
       "    </tr>\n",
       "    <tr>\n",
       "      <th>1</th>\n",
       "      <td>THEBLACKLABEL</td>\n",
       "      <td>2670000</td>\n",
       "    </tr>\n",
       "    <tr>\n",
       "      <th>2</th>\n",
       "      <td>SECHSKIES</td>\n",
       "      <td>545000</td>\n",
       "    </tr>\n",
       "    <tr>\n",
       "      <th>3</th>\n",
       "      <td>SMTOWN</td>\n",
       "      <td>31000000</td>\n",
       "    </tr>\n",
       "    <tr>\n",
       "      <th>4</th>\n",
       "      <td>TREASURE (트레저)</td>\n",
       "      <td>6500000</td>\n",
       "    </tr>\n",
       "    <tr>\n",
       "      <th>5</th>\n",
       "      <td>BIGBANG</td>\n",
       "      <td>14900000</td>\n",
       "    </tr>\n",
       "    <tr>\n",
       "      <th>6</th>\n",
       "      <td>BLACKPINK</td>\n",
       "      <td>82700000</td>\n",
       "    </tr>\n",
       "    <tr>\n",
       "      <th>7</th>\n",
       "      <td>JYP Entertainment</td>\n",
       "      <td>25900000</td>\n",
       "    </tr>\n",
       "    <tr>\n",
       "      <th>8</th>\n",
       "      <td>iKON</td>\n",
       "      <td>8750000</td>\n",
       "    </tr>\n",
       "    <tr>\n",
       "      <th>9</th>\n",
       "      <td>WINNER</td>\n",
       "      <td>4000000</td>\n",
       "    </tr>\n",
       "  </tbody>\n",
       "</table>\n",
       "</div>"
      ],
      "text/plain": [
       "             channel  subcribers\n",
       "0        HYBE LABELS    68700000\n",
       "1      THEBLACKLABEL     2670000\n",
       "2          SECHSKIES      545000\n",
       "3             SMTOWN    31000000\n",
       "4     TREASURE (트레저)     6500000\n",
       "5            BIGBANG    14900000\n",
       "6          BLACKPINK    82700000\n",
       "7  JYP Entertainment    25900000\n",
       "8               iKON     8750000\n",
       "9             WINNER     4000000"
      ]
     },
     "execution_count": 9,
     "metadata": {},
     "output_type": "execute_result"
    }
   ],
   "source": [
    "df_channel = pd.DataFrame(df['video_channelTitle'].unique(), columns = ['channel'])\n",
    "df_channel['subcribers']=0\n",
    "for x in df_channel['channel']:\n",
    "    df_channel.loc[df_channel['channel']==x, 'subcribers'] = df.loc[df['video_channelTitle']==x, 'video_channelSubscriber'].max()\n",
    "df_channel"
   ]
  },
  {
   "cell_type": "code",
   "execution_count": 10,
   "metadata": {},
   "outputs": [
    {
     "name": "stderr",
     "output_type": "stream",
     "text": [
      "C:\\Users\\NGUYEN~1\\AppData\\Local\\Temp/ipykernel_16276/2044901250.py:6: UserWarning: Glyph 53944 (\\N{HANGUL SYLLABLE TEU}) missing from current font.\n",
      "  plt.tight_layout()\n",
      "C:\\Users\\NGUYEN~1\\AppData\\Local\\Temp/ipykernel_16276/2044901250.py:6: UserWarning: Glyph 47112 (\\N{HANGUL SYLLABLE RE}) missing from current font.\n",
      "  plt.tight_layout()\n",
      "C:\\Users\\NGUYEN~1\\AppData\\Local\\Temp/ipykernel_16276/2044901250.py:6: UserWarning: Glyph 51200 (\\N{HANGUL SYLLABLE JEO}) missing from current font.\n",
      "  plt.tight_layout()\n",
      "c:\\Users\\NguyenNam\\AppData\\Local\\Programs\\Python\\Python39\\lib\\site-packages\\IPython\\core\\pylabtools.py:151: UserWarning: Glyph 53944 (\\N{HANGUL SYLLABLE TEU}) missing from current font.\n",
      "  fig.canvas.print_figure(bytes_io, **kw)\n",
      "c:\\Users\\NguyenNam\\AppData\\Local\\Programs\\Python\\Python39\\lib\\site-packages\\IPython\\core\\pylabtools.py:151: UserWarning: Glyph 47112 (\\N{HANGUL SYLLABLE RE}) missing from current font.\n",
      "  fig.canvas.print_figure(bytes_io, **kw)\n",
      "c:\\Users\\NguyenNam\\AppData\\Local\\Programs\\Python\\Python39\\lib\\site-packages\\IPython\\core\\pylabtools.py:151: UserWarning: Glyph 51200 (\\N{HANGUL SYLLABLE JEO}) missing from current font.\n",
      "  fig.canvas.print_figure(bytes_io, **kw)\n"
     ]
    },
    {
     "data": {
      "image/png": "[encoded data removed]",
      "text/plain": [
       "<Figure size 432x288 with 1 Axes>"
      ]
     },
     "metadata": {
      "needs_background": "light"
     },
     "output_type": "display_data"
    }
   ],
   "source": [
    "# plot bar chart\n",
    "sns.set(style=\"whitegrid\")\n",
    "sns.set(rc={'figure.figsize':(11.7,8.27)})\n",
    "ax = sns.barplot(x=\"channel\", y=\"subcribers\", data=df_channel.sort_values(by='subcribers', ascending=False))\n",
    "ax.set_xticklabels(ax.get_xticklabels(), rotation=40, ha=\"right\")\n",
    "plt.tight_layout()\n",
    "plt.show()"
   ]
  },
  {
   "cell_type": "markdown",
   "metadata": {},
   "source": [
    "#### Time publish teaser and time publish MV"
   ]
  },
  {
   "cell_type": "code",
   "execution_count": 11,
   "metadata": {},
   "outputs": [
    {
     "data": {
      "text/html": [
       "<div>\n",
       "<style scoped>\n",
       "    .dataframe tbody tr th:only-of-type {\n",
       "        vertical-align: middle;\n",
       "    }\n",
       "\n",
       "    .dataframe tbody tr th {\n",
       "        vertical-align: top;\n",
       "    }\n",
       "\n",
       "    .dataframe thead th {\n",
       "        text-align: right;\n",
       "    }\n",
       "</style>\n",
       "<table border=\"1\" class=\"dataframe\">\n",
       "  <thead>\n",
       "    <tr style=\"text-align: right;\">\n",
       "      <th></th>\n",
       "      <th>trailer_time</th>\n",
       "      <th>mv_time</th>\n",
       "    </tr>\n",
       "  </thead>\n",
       "  <tbody>\n",
       "    <tr>\n",
       "      <th>0</th>\n",
       "      <td>15</td>\n",
       "      <td>14</td>\n",
       "    </tr>\n",
       "    <tr>\n",
       "      <th>1</th>\n",
       "      <td>15</td>\n",
       "      <td>14</td>\n",
       "    </tr>\n",
       "    <tr>\n",
       "      <th>2</th>\n",
       "      <td>9</td>\n",
       "      <td>9</td>\n",
       "    </tr>\n",
       "    <tr>\n",
       "      <th>3</th>\n",
       "      <td>9</td>\n",
       "      <td>9</td>\n",
       "    </tr>\n",
       "    <tr>\n",
       "      <th>4</th>\n",
       "      <td>9</td>\n",
       "      <td>9</td>\n",
       "    </tr>\n",
       "    <tr>\n",
       "      <th>...</th>\n",
       "      <td>...</td>\n",
       "      <td>...</td>\n",
       "    </tr>\n",
       "    <tr>\n",
       "      <th>683</th>\n",
       "      <td>0</td>\n",
       "      <td>9</td>\n",
       "    </tr>\n",
       "    <tr>\n",
       "      <th>684</th>\n",
       "      <td>1</td>\n",
       "      <td>7</td>\n",
       "    </tr>\n",
       "    <tr>\n",
       "      <th>685</th>\n",
       "      <td>1</td>\n",
       "      <td>7</td>\n",
       "    </tr>\n",
       "    <tr>\n",
       "      <th>686</th>\n",
       "      <td>7</td>\n",
       "      <td>7</td>\n",
       "    </tr>\n",
       "    <tr>\n",
       "      <th>687</th>\n",
       "      <td>7</td>\n",
       "      <td>7</td>\n",
       "    </tr>\n",
       "  </tbody>\n",
       "</table>\n",
       "<p>688 rows × 2 columns</p>\n",
       "</div>"
      ],
      "text/plain": [
       "     trailer_time  mv_time\n",
       "0              15       14\n",
       "1              15       14\n",
       "2               9        9\n",
       "3               9        9\n",
       "4               9        9\n",
       "..            ...      ...\n",
       "683             0        9\n",
       "684             1        7\n",
       "685             1        7\n",
       "686             7        7\n",
       "687             7        7\n",
       "\n",
       "[688 rows x 2 columns]"
      ]
     },
     "execution_count": 11,
     "metadata": {},
     "output_type": "execute_result"
    }
   ],
   "source": [
    "#2018-07-19 01:00:01+00:00\n",
    "df_time = pd.DataFrame()\n",
    "df_time['trailer_time'] = pd.to_datetime(df['video_publishedAt']).dt.hour\n",
    "df_time['mv_time'] = pd.to_datetime(df['video_publishedAt_mv_official']).dt.hour\n",
    "df_time"
   ]
  },
  {
   "cell_type": "code",
   "execution_count": 16,
   "metadata": {},
   "outputs": [
    {
     "name": "stderr",
     "output_type": "stream",
     "text": [
      "C:\\Users\\NGUYEN~1\\AppData\\Local\\Temp/ipykernel_16276/21454455.py:6: UserWarning: \n",
      "\n",
      "`distplot` is a deprecated function and will be removed in seaborn v0.14.0.\n",
      "\n",
      "Please adapt your code to use either `displot` (a figure-level function with\n",
      "similar flexibility) or `histplot` (an axes-level function for histograms).\n",
      "\n",
      "For a guide to updating your code to use the new functions, please see\n",
      "https://gist.github.com/mwaskom/de44147ed2974457ad6372750bbe5751\n",
      "\n",
      "  ax = sns.distplot(df_time[x], bins=24, kde=False, rug=False, label=x)\n",
      "C:\\Users\\NGUYEN~1\\AppData\\Local\\Temp/ipykernel_16276/21454455.py:7: UserWarning: FixedFormatter should only be used together with FixedLocator\n",
      "  ax.set_xticklabels(ax.get_xticklabels(), rotation=40, ha=\"right\")\n"
     ]
    },
    {
     "data": {
      "image/png": "[encoded data removed]",
      "text/plain": [
       "<Figure size 842.4x595.44 with 1 Axes>"
      ]
     },
     "metadata": {},
     "output_type": "display_data"
    }
   ],
   "source": [
    "#plot histogram of video_publishedAt and video_publishedAt_mv_official\n",
    "\n",
    "sns.set(style=\"whitegrid\")\n",
    "sns.set(rc={'figure.figsize':(11.7,8.27)})\n",
    "for x in df_time.columns:\n",
    "    ax = sns.distplot(df_time[x], bins=24, kde=False, rug=False, label=x)\n",
    "# ax.set_xticklabels(ax.get_xticklabels(), rotation=40, ha=\"right\")\n",
    "plt.show()"
   ]
  },
  {
   "cell_type": "markdown",
   "metadata": {},
   "source": [
    "#### Total view, like and comment of top 5 video has highest view"
   ]
  },
  {
   "cell_type": "code",
   "execution_count": 13,
   "metadata": {},
   "outputs": [
    {
     "data": {
      "text/html": [
       "<div>\n",
       "<style scoped>\n",
       "    .dataframe tbody tr th:only-of-type {\n",
       "        vertical-align: middle;\n",
       "    }\n",
       "\n",
       "    .dataframe tbody tr th {\n",
       "        vertical-align: top;\n",
       "    }\n",
       "\n",
       "    .dataframe thead th {\n",
       "        text-align: right;\n",
       "    }\n",
       "</style>\n",
       "<table border=\"1\" class=\"dataframe\">\n",
       "  <thead>\n",
       "    <tr style=\"text-align: right;\">\n",
       "      <th></th>\n",
       "      <th>video_title</th>\n",
       "      <th>video_viewCount</th>\n",
       "      <th>video_likeCount</th>\n",
       "      <th>video_commentCount</th>\n",
       "    </tr>\n",
       "  </thead>\n",
       "  <tbody>\n",
       "    <tr>\n",
       "      <th>556</th>\n",
       "      <td>BLACKPINK - 'Kill This Love' M/V Teaser</td>\n",
       "      <td>60822259.0</td>\n",
       "      <td>2596571.0</td>\n",
       "      <td>119077.0</td>\n",
       "    </tr>\n",
       "    <tr>\n",
       "      <th>555</th>\n",
       "      <td>BLACKPINK - 'How You Like That' M/V TEASER</td>\n",
       "      <td>33425194.0</td>\n",
       "      <td>2875556.0</td>\n",
       "      <td>155589.0</td>\n",
       "    </tr>\n",
       "    <tr>\n",
       "      <th>549</th>\n",
       "      <td>BLACKPINK - ‘Pink Venom’ M/V TEASER</td>\n",
       "      <td>30777565.0</td>\n",
       "      <td>2992467.0</td>\n",
       "      <td>250478.0</td>\n",
       "    </tr>\n",
       "    <tr>\n",
       "      <th>558</th>\n",
       "      <td>BLACKPINK - ‘뚜두뚜두 (DDU-DU DDU-DU)’ M/V TEASER</td>\n",
       "      <td>30418931.0</td>\n",
       "      <td>1903000.0</td>\n",
       "      <td>121836.0</td>\n",
       "    </tr>\n",
       "    <tr>\n",
       "      <th>553</th>\n",
       "      <td>BLACKPINK - 'Lovesick Girls' M/V TEASER</td>\n",
       "      <td>28550841.0</td>\n",
       "      <td>2367912.0</td>\n",
       "      <td>113840.0</td>\n",
       "    </tr>\n",
       "  </tbody>\n",
       "</table>\n",
       "</div>"
      ],
      "text/plain": [
       "                                       video_title  video_viewCount  \\\n",
       "556        BLACKPINK - 'Kill This Love' M/V Teaser       60822259.0   \n",
       "555     BLACKPINK - 'How You Like That' M/V TEASER       33425194.0   \n",
       "549            BLACKPINK - ‘Pink Venom’ M/V TEASER       30777565.0   \n",
       "558  BLACKPINK - ‘뚜두뚜두 (DDU-DU DDU-DU)’ M/V TEASER       30418931.0   \n",
       "553        BLACKPINK - 'Lovesick Girls' M/V TEASER       28550841.0   \n",
       "\n",
       "     video_likeCount  video_commentCount  \n",
       "556        2596571.0            119077.0  \n",
       "555        2875556.0            155589.0  \n",
       "549        2992467.0            250478.0  \n",
       "558        1903000.0            121836.0  \n",
       "553        2367912.0            113840.0  "
      ]
     },
     "execution_count": 13,
     "metadata": {},
     "output_type": "execute_result"
    }
   ],
   "source": [
    "df_view = df[['video_title','video_viewCount','video_likeCount','video_commentCount']]\n",
    "df_view = df_view.sort_values(by='video_viewCount', ascending=False).head(5)\n",
    "df_view"
   ]
  },
  {
   "cell_type": "code",
   "execution_count": 18,
   "metadata": {},
   "outputs": [
    {
     "name": "stderr",
     "output_type": "stream",
     "text": [
      "c:\\Users\\NguyenNam\\AppData\\Local\\Programs\\Python\\Python39\\lib\\site-packages\\IPython\\core\\pylabtools.py:151: UserWarning: Glyph 46748 (\\N{HANGUL SYLLABLE DDU}) missing from current font.\n",
      "  fig.canvas.print_figure(bytes_io, **kw)\n",
      "c:\\Users\\NguyenNam\\AppData\\Local\\Programs\\Python\\Python39\\lib\\site-packages\\IPython\\core\\pylabtools.py:151: UserWarning: Glyph 46160 (\\N{HANGUL SYLLABLE DU}) missing from current font.\n",
      "  fig.canvas.print_figure(bytes_io, **kw)\n"
     ]
    },
    {
     "data": {
      "image/png": "[encoded data removed]",
      "text/plain": [
       "<Figure size 842.4x595.44 with 1 Axes>"
      ]
     },
     "metadata": {},
     "output_type": "display_data"
    }
   ],
   "source": [
    "#plot bar chart of top 5 video with highest view count\n",
    "sns.set(style=\"whitegrid\")\n",
    "sns.set(rc={'figure.figsize':(11.7,8.27)})\n",
    "\n",
    "ax = sns.barplot(x=\"video_title\", y=\"video_viewCount\", data=df_view)\n",
    "ax.set_xticklabels(ax.get_xticklabels(), rotation=40, ha=\"right\")\n",
    "plt.show()"
   ]
  },
  {
   "cell_type": "markdown",
   "metadata": {},
   "source": [
    "#### Distribution of video_viewCount,video_likeCount, video_commentCount using box plot"
   ]
  },
  {
   "cell_type": "code",
   "execution_count": 15,
   "metadata": {},
   "outputs": [
    {
     "data": {
      "image/png": "[encoded data removed]",
      "text/plain": [
       "<Figure size 1080x504 with 3 Axes>"
      ]
     },
     "metadata": {},
     "output_type": "display_data"
    }
   ],
   "source": [
    "features = ['video_viewCount','video_likeCount','video_commentCount']\n",
    "plt.figure(figsize=(15, 7))\n",
    "for i in range(0, len(features)):\n",
    "    plt.subplot(1, 8, i+1)\n",
    "    sns.boxplot(y=df[features[i]],color='green',orient='v')\n",
    "    plt.tight_layout();"
   ]
  },
  {
   "cell_type": "markdown",
   "metadata": {},
   "source": []
  }
 ],
 "metadata": {
  "kernelspec": {
   "display_name": "Python 3.9.2 64-bit",
   "language": "python",
   "name": "python3"
  },
  "language_info": {
   "codemirror_mode": {
    "name": "ipython",
    "version": 3
   },
   "file_extension": ".py",
   "mimetype": "text/x-python",
   "name": "python",
   "nbconvert_exporter": "python",
   "pygments_lexer": "ipython3",
   "version": "3.9.2"
  },
  "orig_nbformat": 4,
  "vscode": {
   "interpreter": {
    "hash": "0ea2ad21493f101843a9230a98e6a9c800107df10eef217f0f5689877f90d8d7"
   }
  }
 },
 "nbformat": 4,
 "nbformat_minor": 2
}
