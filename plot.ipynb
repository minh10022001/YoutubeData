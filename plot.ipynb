{
 "cells": [
  {
   "cell_type": "code",
   "execution_count": 1,
   "metadata": {},
   "outputs": [],
   "source": [
    "import pandas as pd\n",
    "import seaborn as sns\n",
    "import matplotlib.pyplot as plt\n",
    "import re\n",
    "import numpy as np"
   ]
  },
  {
   "cell_type": "code",
   "execution_count": 2,
   "metadata": {},
   "outputs": [
    {
     "data": {
      "text/html": [
       "<div>\n",
       "<style scoped>\n",
       "    .dataframe tbody tr th:only-of-type {\n",
       "        vertical-align: middle;\n",
       "    }\n",
       "\n",
       "    .dataframe tbody tr th {\n",
       "        vertical-align: top;\n",
       "    }\n",
       "\n",
       "    .dataframe thead th {\n",
       "        text-align: right;\n",
       "    }\n",
       "</style>\n",
       "<table border=\"1\" class=\"dataframe\">\n",
       "  <thead>\n",
       "    <tr style=\"text-align: right;\">\n",
       "      <th></th>\n",
       "      <th>video_channelId</th>\n",
       "      <th>video_channelTitle</th>\n",
       "      <th>video_channelSubscriber</th>\n",
       "      <th>video_id</th>\n",
       "      <th>video_title</th>\n",
       "      <th>video_publishedAt</th>\n",
       "      <th>video_description</th>\n",
       "      <th>video_thumbnails</th>\n",
       "      <th>video_tags</th>\n",
       "      <th>video_categoryId</th>\n",
       "      <th>video_viewCount</th>\n",
       "      <th>video_likeCount</th>\n",
       "      <th>video_commentCount</th>\n",
       "      <th>video_duration_teaser</th>\n",
       "      <th>video_id_mv_official</th>\n",
       "      <th>video_title_mv_official</th>\n",
       "      <th>video_publishedAt_mv_official</th>\n",
       "      <th>video_duration_mv_official</th>\n",
       "      <th>video_viewCount_mv_official</th>\n",
       "      <th>total_hour_mv_published</th>\n",
       "    </tr>\n",
       "  </thead>\n",
       "  <tbody>\n",
       "    <tr>\n",
       "      <th>0</th>\n",
       "      <td>UCayQxFAoFCvGariuQCtHRGQ</td>\n",
       "      <td>WINNER</td>\n",
       "      <td>4000000</td>\n",
       "      <td>QKgGAvlnjMk</td>\n",
       "      <td>WINNER - ‘I LOVE U’ M/V TEASER</td>\n",
       "      <td>2022-06-29 15:00:14+00:00</td>\n",
       "      <td>#WINNER #위너 #4thMINIALBUM #HOLIDAY #TITLE #ILO...</td>\n",
       "      <td>https://i.ytimg.com/vi/QKgGAvlnjMk/default.jpg</td>\n",
       "      <td>['YG Entertainment', 'YG', '와이지', 'K-pop', 'WI...</td>\n",
       "      <td>10</td>\n",
       "      <td>367167.0</td>\n",
       "      <td>50097.0</td>\n",
       "      <td>2851.0</td>\n",
       "      <td>PT33S</td>\n",
       "      <td>waMAVn2hHBM</td>\n",
       "      <td>WINNER - ‘I LOVE U’ M/V</td>\n",
       "      <td>2022-07-05 09:00:12+00:00</td>\n",
       "      <td>PT3M11S</td>\n",
       "      <td>20183157.0</td>\n",
       "      <td>183114.0</td>\n",
       "    </tr>\n",
       "    <tr>\n",
       "      <th>1</th>\n",
       "      <td>UCayQxFAoFCvGariuQCtHRGQ</td>\n",
       "      <td>WINNER</td>\n",
       "      <td>4000000</td>\n",
       "      <td>Z4Byo3MYksk</td>\n",
       "      <td>강승윤 (KANG SEUNG YOON) - 'BORN TO LOVE YOU’ M/V...</td>\n",
       "      <td>2022-03-10 15:00:30+00:00</td>\n",
       "      <td>#강승윤 #KANGSEUNGYOON #4thDIGITALSINGLE #TITLE #...</td>\n",
       "      <td>https://i.ytimg.com/vi/Z4Byo3MYksk/default.jpg</td>\n",
       "      <td>['YG Entertainment', 'YG', '와이지', 'K-pop', 'WI...</td>\n",
       "      <td>10</td>\n",
       "      <td>308602.0</td>\n",
       "      <td>59197.0</td>\n",
       "      <td>1962.0</td>\n",
       "      <td>PT48S</td>\n",
       "      <td>9mrlCwoOQtQ</td>\n",
       "      <td>강승윤 (KANG SEUNG YOON) - 'BORN TO LOVE YOU' M/V</td>\n",
       "      <td>2022-03-14 09:00:31+00:00</td>\n",
       "      <td>PT3M1S</td>\n",
       "      <td>11893873.0</td>\n",
       "      <td>342954.0</td>\n",
       "    </tr>\n",
       "    <tr>\n",
       "      <th>2</th>\n",
       "      <td>UCayQxFAoFCvGariuQCtHRGQ</td>\n",
       "      <td>WINNER</td>\n",
       "      <td>4000000</td>\n",
       "      <td>o_gRFsCEor8</td>\n",
       "      <td>MINO - '탕!♡ (TANG!♡)' M/V TEASER</td>\n",
       "      <td>2021-12-02 15:00:25+00:00</td>\n",
       "      <td>#MINO #송민호 #WINNER #위너 #3rdFULLALBUM #TO_INFIN...</td>\n",
       "      <td>https://i.ytimg.com/vi/o_gRFsCEor8/default.jpg</td>\n",
       "      <td>['YG Entertainment', 'YG', '와이지', 'K-pop', 'WI...</td>\n",
       "      <td>10</td>\n",
       "      <td>475458.0</td>\n",
       "      <td>40450.0</td>\n",
       "      <td>1477.0</td>\n",
       "      <td>PT22S</td>\n",
       "      <td>VAEEblk-qDU</td>\n",
       "      <td>MINO - '탕!♡ (TANG!♡)' M/V</td>\n",
       "      <td>2021-12-07 09:00:13+00:00</td>\n",
       "      <td>PT3M16S</td>\n",
       "      <td>15466201.0</td>\n",
       "      <td>484074.0</td>\n",
       "    </tr>\n",
       "  </tbody>\n",
       "</table>\n",
       "</div>"
      ],
      "text/plain": [
       "            video_channelId video_channelTitle  video_channelSubscriber  \\\n",
       "0  UCayQxFAoFCvGariuQCtHRGQ             WINNER                  4000000   \n",
       "1  UCayQxFAoFCvGariuQCtHRGQ             WINNER                  4000000   \n",
       "2  UCayQxFAoFCvGariuQCtHRGQ             WINNER                  4000000   \n",
       "\n",
       "      video_id                                        video_title  \\\n",
       "0  QKgGAvlnjMk                     WINNER - ‘I LOVE U’ M/V TEASER   \n",
       "1  Z4Byo3MYksk  강승윤 (KANG SEUNG YOON) - 'BORN TO LOVE YOU’ M/V...   \n",
       "2  o_gRFsCEor8                   MINO - '탕!♡ (TANG!♡)' M/V TEASER   \n",
       "\n",
       "           video_publishedAt  \\\n",
       "0  2022-06-29 15:00:14+00:00   \n",
       "1  2022-03-10 15:00:30+00:00   \n",
       "2  2021-12-02 15:00:25+00:00   \n",
       "\n",
       "                                   video_description  \\\n",
       "0  #WINNER #위너 #4thMINIALBUM #HOLIDAY #TITLE #ILO...   \n",
       "1  #강승윤 #KANGSEUNGYOON #4thDIGITALSINGLE #TITLE #...   \n",
       "2  #MINO #송민호 #WINNER #위너 #3rdFULLALBUM #TO_INFIN...   \n",
       "\n",
       "                                 video_thumbnails  \\\n",
       "0  https://i.ytimg.com/vi/QKgGAvlnjMk/default.jpg   \n",
       "1  https://i.ytimg.com/vi/Z4Byo3MYksk/default.jpg   \n",
       "2  https://i.ytimg.com/vi/o_gRFsCEor8/default.jpg   \n",
       "\n",
       "                                          video_tags  video_categoryId  \\\n",
       "0  ['YG Entertainment', 'YG', '와이지', 'K-pop', 'WI...                10   \n",
       "1  ['YG Entertainment', 'YG', '와이지', 'K-pop', 'WI...                10   \n",
       "2  ['YG Entertainment', 'YG', '와이지', 'K-pop', 'WI...                10   \n",
       "\n",
       "   video_viewCount  video_likeCount  video_commentCount video_duration_teaser  \\\n",
       "0         367167.0          50097.0              2851.0                 PT33S   \n",
       "1         308602.0          59197.0              1962.0                 PT48S   \n",
       "2         475458.0          40450.0              1477.0                 PT22S   \n",
       "\n",
       "  video_id_mv_official                         video_title_mv_official  \\\n",
       "0          waMAVn2hHBM                         WINNER - ‘I LOVE U’ M/V   \n",
       "1          9mrlCwoOQtQ  강승윤 (KANG SEUNG YOON) - 'BORN TO LOVE YOU' M/V   \n",
       "2          VAEEblk-qDU                       MINO - '탕!♡ (TANG!♡)' M/V   \n",
       "\n",
       "  video_publishedAt_mv_official video_duration_mv_official  \\\n",
       "0     2022-07-05 09:00:12+00:00                    PT3M11S   \n",
       "1     2022-03-14 09:00:31+00:00                     PT3M1S   \n",
       "2     2021-12-07 09:00:13+00:00                    PT3M16S   \n",
       "\n",
       "   video_viewCount_mv_official  total_hour_mv_published  \n",
       "0                   20183157.0                 183114.0  \n",
       "1                   11893873.0                 342954.0  \n",
       "2                   15466201.0                 484074.0  "
      ]
     },
     "execution_count": 2,
     "metadata": {},
     "output_type": "execute_result"
    }
   ],
   "source": [
    "df = pd.read_csv('data_youtube.csv', header = 0)\n",
    "df.head(3)"
   ]
  },
  {
   "cell_type": "markdown",
   "metadata": {},
   "source": [
    "#### Subcriber of each channel"
   ]
  },
  {
   "cell_type": "code",
   "execution_count": 3,
   "metadata": {},
   "outputs": [
    {
     "data": {
      "text/html": [
       "<div>\n",
       "<style scoped>\n",
       "    .dataframe tbody tr th:only-of-type {\n",
       "        vertical-align: middle;\n",
       "    }\n",
       "\n",
       "    .dataframe tbody tr th {\n",
       "        vertical-align: top;\n",
       "    }\n",
       "\n",
       "    .dataframe thead th {\n",
       "        text-align: right;\n",
       "    }\n",
       "</style>\n",
       "<table border=\"1\" class=\"dataframe\">\n",
       "  <thead>\n",
       "    <tr style=\"text-align: right;\">\n",
       "      <th></th>\n",
       "      <th>channel</th>\n",
       "      <th>subcribers</th>\n",
       "    </tr>\n",
       "  </thead>\n",
       "  <tbody>\n",
       "    <tr>\n",
       "      <th>0</th>\n",
       "      <td>WINNER</td>\n",
       "      <td>4000000</td>\n",
       "    </tr>\n",
       "    <tr>\n",
       "      <th>1</th>\n",
       "      <td>SMTOWN</td>\n",
       "      <td>31000000</td>\n",
       "    </tr>\n",
       "    <tr>\n",
       "      <th>2</th>\n",
       "      <td>TREASURE (트레저)</td>\n",
       "      <td>6510000</td>\n",
       "    </tr>\n",
       "    <tr>\n",
       "      <th>3</th>\n",
       "      <td>THEBLACKLABEL</td>\n",
       "      <td>2670000</td>\n",
       "    </tr>\n",
       "    <tr>\n",
       "      <th>4</th>\n",
       "      <td>BIGBANG</td>\n",
       "      <td>14900000</td>\n",
       "    </tr>\n",
       "    <tr>\n",
       "      <th>5</th>\n",
       "      <td>BLACKPINK</td>\n",
       "      <td>82700000</td>\n",
       "    </tr>\n",
       "    <tr>\n",
       "      <th>6</th>\n",
       "      <td>HYBE LABELS</td>\n",
       "      <td>68700000</td>\n",
       "    </tr>\n",
       "    <tr>\n",
       "      <th>7</th>\n",
       "      <td>SECHSKIES</td>\n",
       "      <td>545000</td>\n",
       "    </tr>\n",
       "    <tr>\n",
       "      <th>8</th>\n",
       "      <td>iKON</td>\n",
       "      <td>8750000</td>\n",
       "    </tr>\n",
       "    <tr>\n",
       "      <th>9</th>\n",
       "      <td>JYP Entertainment</td>\n",
       "      <td>25900000</td>\n",
       "    </tr>\n",
       "  </tbody>\n",
       "</table>\n",
       "</div>"
      ],
      "text/plain": [
       "             channel  subcribers\n",
       "0             WINNER     4000000\n",
       "1             SMTOWN    31000000\n",
       "2     TREASURE (트레저)     6510000\n",
       "3      THEBLACKLABEL     2670000\n",
       "4            BIGBANG    14900000\n",
       "5          BLACKPINK    82700000\n",
       "6        HYBE LABELS    68700000\n",
       "7          SECHSKIES      545000\n",
       "8               iKON     8750000\n",
       "9  JYP Entertainment    25900000"
      ]
     },
     "execution_count": 3,
     "metadata": {},
     "output_type": "execute_result"
    }
   ],
   "source": [
    "df_channel = pd.DataFrame(df['video_channelTitle'].unique(), columns = ['channel'])\n",
    "df_channel['subcribers']=0\n",
    "for x in df_channel['channel']:\n",
    "    df_channel.loc[df_channel['channel']==x, 'subcribers'] = df.loc[df['video_channelTitle']==x, 'video_channelSubscriber'].max()\n",
    "df_channel"
   ]
  },
  {
   "cell_type": "code",
   "execution_count": 4,
   "metadata": {},
   "outputs": [
    {
     "name": "stderr",
     "output_type": "stream",
     "text": [
      "C:\\Users\\NGUYEN~1\\AppData\\Local\\Temp/ipykernel_18636/2044901250.py:6: UserWarning: Glyph 53944 (\\N{HANGUL SYLLABLE TEU}) missing from current font.\n",
      "  plt.tight_layout()\n",
      "C:\\Users\\NGUYEN~1\\AppData\\Local\\Temp/ipykernel_18636/2044901250.py:6: UserWarning: Glyph 47112 (\\N{HANGUL SYLLABLE RE}) missing from current font.\n",
      "  plt.tight_layout()\n",
      "C:\\Users\\NGUYEN~1\\AppData\\Local\\Temp/ipykernel_18636/2044901250.py:6: UserWarning: Glyph 51200 (\\N{HANGUL SYLLABLE JEO}) missing from current font.\n",
      "  plt.tight_layout()\n",
      "c:\\Users\\NguyenNam\\AppData\\Local\\Programs\\Python\\Python39\\lib\\site-packages\\IPython\\core\\pylabtools.py:151: UserWarning: Glyph 53944 (\\N{HANGUL SYLLABLE TEU}) missing from current font.\n",
      "  fig.canvas.print_figure(bytes_io, **kw)\n",
      "c:\\Users\\NguyenNam\\AppData\\Local\\Programs\\Python\\Python39\\lib\\site-packages\\IPython\\core\\pylabtools.py:151: UserWarning: Glyph 47112 (\\N{HANGUL SYLLABLE RE}) missing from current font.\n",
      "  fig.canvas.print_figure(bytes_io, **kw)\n",
      "c:\\Users\\NguyenNam\\AppData\\Local\\Programs\\Python\\Python39\\lib\\site-packages\\IPython\\core\\pylabtools.py:151: UserWarning: Glyph 51200 (\\N{HANGUL SYLLABLE JEO}) missing from current font.\n",
      "  fig.canvas.print_figure(bytes_io, **kw)\n"
     ]
    },
    {
     "data": {
      "image/png": "[encoded data removed]",
      "text/plain": [
       "<Figure size 432x288 with 1 Axes>"
      ]
     },
     "metadata": {
      "needs_background": "light"
     },
     "output_type": "display_data"
    }
   ],
   "source": [
    "# plot bar chart\n",
    "sns.set(style=\"whitegrid\")\n",
    "sns.set(rc={'figure.figsize':(11.7,8.27)})\n",
    "ax = sns.barplot(x=\"channel\", y=\"subcribers\", data=df_channel.sort_values(by='subcribers', ascending=False))\n",
    "ax.set_xticklabels(ax.get_xticklabels(), rotation=40, ha=\"right\")\n",
    "plt.tight_layout()\n",
    "plt.show()"
   ]
  },
  {
   "cell_type": "markdown",
   "metadata": {},
   "source": [
    "#### Time publish teaser and time publish MV"
   ]
  },
  {
   "cell_type": "code",
   "execution_count": 5,
   "metadata": {},
   "outputs": [
    {
     "data": {
      "text/html": [
       "<div>\n",
       "<style scoped>\n",
       "    .dataframe tbody tr th:only-of-type {\n",
       "        vertical-align: middle;\n",
       "    }\n",
       "\n",
       "    .dataframe tbody tr th {\n",
       "        vertical-align: top;\n",
       "    }\n",
       "\n",
       "    .dataframe thead th {\n",
       "        text-align: right;\n",
       "    }\n",
       "</style>\n",
       "<table border=\"1\" class=\"dataframe\">\n",
       "  <thead>\n",
       "    <tr style=\"text-align: right;\">\n",
       "      <th></th>\n",
       "      <th>trailer_time</th>\n",
       "      <th>mv_time</th>\n",
       "    </tr>\n",
       "  </thead>\n",
       "  <tbody>\n",
       "    <tr>\n",
       "      <th>0</th>\n",
       "      <td>15</td>\n",
       "      <td>9</td>\n",
       "    </tr>\n",
       "    <tr>\n",
       "      <th>1</th>\n",
       "      <td>15</td>\n",
       "      <td>9</td>\n",
       "    </tr>\n",
       "    <tr>\n",
       "      <th>2</th>\n",
       "      <td>15</td>\n",
       "      <td>9</td>\n",
       "    </tr>\n",
       "    <tr>\n",
       "      <th>3</th>\n",
       "      <td>15</td>\n",
       "      <td>9</td>\n",
       "    </tr>\n",
       "    <tr>\n",
       "      <th>4</th>\n",
       "      <td>15</td>\n",
       "      <td>9</td>\n",
       "    </tr>\n",
       "    <tr>\n",
       "      <th>...</th>\n",
       "      <td>...</td>\n",
       "      <td>...</td>\n",
       "    </tr>\n",
       "    <tr>\n",
       "      <th>839</th>\n",
       "      <td>15</td>\n",
       "      <td>9</td>\n",
       "    </tr>\n",
       "    <tr>\n",
       "      <th>840</th>\n",
       "      <td>15</td>\n",
       "      <td>2</td>\n",
       "    </tr>\n",
       "    <tr>\n",
       "      <th>841</th>\n",
       "      <td>15</td>\n",
       "      <td>9</td>\n",
       "    </tr>\n",
       "    <tr>\n",
       "      <th>842</th>\n",
       "      <td>15</td>\n",
       "      <td>15</td>\n",
       "    </tr>\n",
       "    <tr>\n",
       "      <th>843</th>\n",
       "      <td>16</td>\n",
       "      <td>15</td>\n",
       "    </tr>\n",
       "  </tbody>\n",
       "</table>\n",
       "<p>844 rows × 2 columns</p>\n",
       "</div>"
      ],
      "text/plain": [
       "     trailer_time  mv_time\n",
       "0              15        9\n",
       "1              15        9\n",
       "2              15        9\n",
       "3              15        9\n",
       "4              15        9\n",
       "..            ...      ...\n",
       "839            15        9\n",
       "840            15        2\n",
       "841            15        9\n",
       "842            15       15\n",
       "843            16       15\n",
       "\n",
       "[844 rows x 2 columns]"
      ]
     },
     "execution_count": 5,
     "metadata": {},
     "output_type": "execute_result"
    }
   ],
   "source": [
    "#2018-07-19 01:00:01+00:00\n",
    "df_time = pd.DataFrame()\n",
    "df_time['trailer_time'] = pd.to_datetime(df['video_publishedAt']).dt.hour\n",
    "df_time['mv_time'] = pd.to_datetime(df['video_publishedAt_mv_official']).dt.hour\n",
    "df_time"
   ]
  },
  {
   "cell_type": "code",
   "execution_count": 6,
   "metadata": {},
   "outputs": [
    {
     "name": "stderr",
     "output_type": "stream",
     "text": [
      "C:\\Users\\NGUYEN~1\\AppData\\Local\\Temp/ipykernel_18636/2268932548.py:6: UserWarning: \n",
      "\n",
      "`distplot` is a deprecated function and will be removed in seaborn v0.14.0.\n",
      "\n",
      "Please adapt your code to use either `displot` (a figure-level function with\n",
      "similar flexibility) or `histplot` (an axes-level function for histograms).\n",
      "\n",
      "For a guide to updating your code to use the new functions, please see\n",
      "https://gist.github.com/mwaskom/de44147ed2974457ad6372750bbe5751\n",
      "\n",
      "  ax = sns.distplot(df_time[x], bins=24, kde=False, rug=False, label=x)\n"
     ]
    },
    {
     "data": {
      "image/png": "[encoded data removed]",
      "text/plain": [
       "<Figure size 842.4x595.44 with 1 Axes>"
      ]
     },
     "metadata": {},
     "output_type": "display_data"
    }
   ],
   "source": [
    "#plot histogram of video_publishedAt and video_publishedAt_mv_official\n",
    "\n",
    "sns.set(style=\"whitegrid\")\n",
    "sns.set(rc={'figure.figsize':(11.7,8.27)})\n",
    "for x in df_time.columns:\n",
    "    ax = sns.distplot(df_time[x], bins=24, kde=False, rug=False, label=x)\n",
    "# ax.set_xticklabels(ax.get_xticklabels(), rotation=40, ha=\"right\")\n",
    "plt.show()"
   ]
  },
  {
   "cell_type": "markdown",
   "metadata": {},
   "source": [
    "#### Total view, like and comment of top 5 video has highest view"
   ]
  },
  {
   "cell_type": "code",
   "execution_count": 7,
   "metadata": {},
   "outputs": [
    {
     "data": {
      "text/html": [
       "<div>\n",
       "<style scoped>\n",
       "    .dataframe tbody tr th:only-of-type {\n",
       "        vertical-align: middle;\n",
       "    }\n",
       "\n",
       "    .dataframe tbody tr th {\n",
       "        vertical-align: top;\n",
       "    }\n",
       "\n",
       "    .dataframe thead th {\n",
       "        text-align: right;\n",
       "    }\n",
       "</style>\n",
       "<table border=\"1\" class=\"dataframe\">\n",
       "  <thead>\n",
       "    <tr style=\"text-align: right;\">\n",
       "      <th></th>\n",
       "      <th>video_title</th>\n",
       "      <th>video_viewCount</th>\n",
       "      <th>video_likeCount</th>\n",
       "      <th>video_commentCount</th>\n",
       "    </tr>\n",
       "  </thead>\n",
       "  <tbody>\n",
       "    <tr>\n",
       "      <th>676</th>\n",
       "      <td>BTS (방탄소년단) 'Dynamite' Official Teaser</td>\n",
       "      <td>74558628.0</td>\n",
       "      <td>6455162.0</td>\n",
       "      <td>968304.0</td>\n",
       "    </tr>\n",
       "    <tr>\n",
       "      <th>634</th>\n",
       "      <td>BTS (방탄소년단) 'Butter' Official Teaser</td>\n",
       "      <td>64560204.0</td>\n",
       "      <td>5780835.0</td>\n",
       "      <td>1120787.0</td>\n",
       "    </tr>\n",
       "    <tr>\n",
       "      <th>556</th>\n",
       "      <td>BLACKPINK - 'Kill This Love' M/V Teaser</td>\n",
       "      <td>60828635.0</td>\n",
       "      <td>2596752.0</td>\n",
       "      <td>119072.0</td>\n",
       "    </tr>\n",
       "    <tr>\n",
       "      <th>706</th>\n",
       "      <td>BTS (방탄소년단) '작은 것들을 위한 시 (Boy With Luv) (feat....</td>\n",
       "      <td>44392643.0</td>\n",
       "      <td>3762280.0</td>\n",
       "      <td>273744.0</td>\n",
       "    </tr>\n",
       "    <tr>\n",
       "      <th>710</th>\n",
       "      <td>BTS (방탄소년단) 'IDOL' Official Teaser</td>\n",
       "      <td>38586041.0</td>\n",
       "      <td>3490856.0</td>\n",
       "      <td>331495.0</td>\n",
       "    </tr>\n",
       "  </tbody>\n",
       "</table>\n",
       "</div>"
      ],
      "text/plain": [
       "                                           video_title  video_viewCount  \\\n",
       "676             BTS (방탄소년단) 'Dynamite' Official Teaser       74558628.0   \n",
       "634               BTS (방탄소년단) 'Butter' Official Teaser       64560204.0   \n",
       "556            BLACKPINK - 'Kill This Love' M/V Teaser       60828635.0   \n",
       "706  BTS (방탄소년단) '작은 것들을 위한 시 (Boy With Luv) (feat....       44392643.0   \n",
       "710                 BTS (방탄소년단) 'IDOL' Official Teaser       38586041.0   \n",
       "\n",
       "     video_likeCount  video_commentCount  \n",
       "676        6455162.0            968304.0  \n",
       "634        5780835.0           1120787.0  \n",
       "556        2596752.0            119072.0  \n",
       "706        3762280.0            273744.0  \n",
       "710        3490856.0            331495.0  "
      ]
     },
     "execution_count": 7,
     "metadata": {},
     "output_type": "execute_result"
    }
   ],
   "source": [
    "df_view = df[['video_title','video_viewCount','video_likeCount','video_commentCount']]\n",
    "df_view = df_view.sort_values(by='video_viewCount', ascending=False).head(5)\n",
    "df_view"
   ]
  },
  {
   "cell_type": "code",
   "execution_count": 8,
   "metadata": {},
   "outputs": [
    {
     "name": "stderr",
     "output_type": "stream",
     "text": [
      "c:\\Users\\NguyenNam\\AppData\\Local\\Programs\\Python\\Python39\\lib\\site-packages\\IPython\\core\\pylabtools.py:151: UserWarning: Glyph 48169 (\\N{HANGUL SYLLABLE BANG}) missing from current font.\n",
      "  fig.canvas.print_figure(bytes_io, **kw)\n",
      "c:\\Users\\NguyenNam\\AppData\\Local\\Programs\\Python\\Python39\\lib\\site-packages\\IPython\\core\\pylabtools.py:151: UserWarning: Glyph 53444 (\\N{HANGUL SYLLABLE TAN}) missing from current font.\n",
      "  fig.canvas.print_figure(bytes_io, **kw)\n",
      "c:\\Users\\NguyenNam\\AppData\\Local\\Programs\\Python\\Python39\\lib\\site-packages\\IPython\\core\\pylabtools.py:151: UserWarning: Glyph 49548 (\\N{HANGUL SYLLABLE SO}) missing from current font.\n",
      "  fig.canvas.print_figure(bytes_io, **kw)\n",
      "c:\\Users\\NguyenNam\\AppData\\Local\\Programs\\Python\\Python39\\lib\\site-packages\\IPython\\core\\pylabtools.py:151: UserWarning: Glyph 45380 (\\N{HANGUL SYLLABLE NYEON}) missing from current font.\n",
      "  fig.canvas.print_figure(bytes_io, **kw)\n",
      "c:\\Users\\NguyenNam\\AppData\\Local\\Programs\\Python\\Python39\\lib\\site-packages\\IPython\\core\\pylabtools.py:151: UserWarning: Glyph 45800 (\\N{HANGUL SYLLABLE DAN}) missing from current font.\n",
      "  fig.canvas.print_figure(bytes_io, **kw)\n",
      "c:\\Users\\NguyenNam\\AppData\\Local\\Programs\\Python\\Python39\\lib\\site-packages\\IPython\\core\\pylabtools.py:151: UserWarning: Glyph 51089 (\\N{HANGUL SYLLABLE JAG}) missing from current font.\n",
      "  fig.canvas.print_figure(bytes_io, **kw)\n",
      "c:\\Users\\NguyenNam\\AppData\\Local\\Programs\\Python\\Python39\\lib\\site-packages\\IPython\\core\\pylabtools.py:151: UserWarning: Glyph 51008 (\\N{HANGUL SYLLABLE EUN}) missing from current font.\n",
      "  fig.canvas.print_figure(bytes_io, **kw)\n",
      "c:\\Users\\NguyenNam\\AppData\\Local\\Programs\\Python\\Python39\\lib\\site-packages\\IPython\\core\\pylabtools.py:151: UserWarning: Glyph 44163 (\\N{HANGUL SYLLABLE GEOS}) missing from current font.\n",
      "  fig.canvas.print_figure(bytes_io, **kw)\n",
      "c:\\Users\\NguyenNam\\AppData\\Local\\Programs\\Python\\Python39\\lib\\site-packages\\IPython\\core\\pylabtools.py:151: UserWarning: Glyph 46308 (\\N{HANGUL SYLLABLE DEUL}) missing from current font.\n",
      "  fig.canvas.print_figure(bytes_io, **kw)\n",
      "c:\\Users\\NguyenNam\\AppData\\Local\\Programs\\Python\\Python39\\lib\\site-packages\\IPython\\core\\pylabtools.py:151: UserWarning: Glyph 51012 (\\N{HANGUL SYLLABLE EUL}) missing from current font.\n",
      "  fig.canvas.print_figure(bytes_io, **kw)\n",
      "c:\\Users\\NguyenNam\\AppData\\Local\\Programs\\Python\\Python39\\lib\\site-packages\\IPython\\core\\pylabtools.py:151: UserWarning: Glyph 50948 (\\N{HANGUL SYLLABLE WI}) missing from current font.\n",
      "  fig.canvas.print_figure(bytes_io, **kw)\n",
      "c:\\Users\\NguyenNam\\AppData\\Local\\Programs\\Python\\Python39\\lib\\site-packages\\IPython\\core\\pylabtools.py:151: UserWarning: Glyph 54620 (\\N{HANGUL SYLLABLE HAN}) missing from current font.\n",
      "  fig.canvas.print_figure(bytes_io, **kw)\n",
      "c:\\Users\\NguyenNam\\AppData\\Local\\Programs\\Python\\Python39\\lib\\site-packages\\IPython\\core\\pylabtools.py:151: UserWarning: Glyph 49884 (\\N{HANGUL SYLLABLE SI}) missing from current font.\n",
      "  fig.canvas.print_figure(bytes_io, **kw)\n"
     ]
    },
    {
     "data": {
      "image/png": "[encoded data removed]",
      "text/plain": [
       "<Figure size 842.4x595.44 with 1 Axes>"
      ]
     },
     "metadata": {},
     "output_type": "display_data"
    }
   ],
   "source": [
    "#plot bar chart of top 5 video with highest view count\n",
    "sns.set(style=\"whitegrid\")\n",
    "sns.set(rc={'figure.figsize':(11.7,8.27)})\n",
    "\n",
    "ax = sns.barplot(x=\"video_title\", y=\"video_viewCount\", data=df_view)\n",
    "ax.set_xticklabels(ax.get_xticklabels(), rotation=40, ha=\"right\")\n",
    "plt.show()"
   ]
  },
  {
   "cell_type": "markdown",
   "metadata": {},
   "source": [
    "#### Distribution of video_viewCount,video_likeCount, video_commentCount using box plot"
   ]
  },
  {
   "cell_type": "code",
   "execution_count": 9,
   "metadata": {},
   "outputs": [
    {
     "data": {
      "image/png": "[encoded data removed]",
      "text/plain": [
       "<Figure size 1080x504 with 3 Axes>"
      ]
     },
     "metadata": {},
     "output_type": "display_data"
    }
   ],
   "source": [
    "features = ['video_viewCount','video_likeCount','video_commentCount']\n",
    "plt.figure(figsize=(15, 7))\n",
    "for i in range(0, len(features)):\n",
    "    plt.subplot(1, 8, i+1)\n",
    "    sns.boxplot(y=df[features[i]],color='green',orient='v')\n",
    "    plt.tight_layout();"
   ]
  },
  {
   "cell_type": "markdown",
   "metadata": {},
   "source": []
  }
 ],
 "metadata": {
  "kernelspec": {
   "display_name": "Python 3.9.2 64-bit",
   "language": "python",
   "name": "python3"
  },
  "language_info": {
   "codemirror_mode": {
    "name": "ipython",
    "version": 3
   },
   "file_extension": ".py",
   "mimetype": "text/x-python",
   "name": "python",
   "nbconvert_exporter": "python",
   "pygments_lexer": "ipython3",
   "version": "3.9.2"
  },
  "orig_nbformat": 4,
  "vscode": {
   "interpreter": {
    "hash": "0ea2ad21493f101843a9230a98e6a9c800107df10eef217f0f5689877f90d8d7"
   }
  }
 },
 "nbformat": 4,
 "nbformat_minor": 2
}
